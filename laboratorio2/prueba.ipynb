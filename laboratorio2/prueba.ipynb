{
 "cells": [
  {
   "cell_type": "code",
   "execution_count": 1,
   "metadata": {},
   "outputs": [],
   "source": [
    "import os\n",
    "import nibabel as nib\n",
    "import torch\n",
    "import torch.nn as nn\n",
    "from torch.utils.data import Dataset, DataLoader, random_split\n",
    "from torchvision import transforms\n",
    "from tqdm import tqdm"
   ]
  },
  {
   "cell_type": "code",
   "execution_count": 2,
   "metadata": {},
   "outputs": [],
   "source": [
    "device = torch.device( 'cpu')\n"
   ]
  },
  {
   "cell_type": "code",
   "execution_count": 3,
   "metadata": {},
   "outputs": [],
   "source": [
    "transform = transforms.Compose([\n",
    "    transforms.RandomRotation(degrees=15),  # Rotaciones aleatorias de hasta 15 grados\n",
    "    transforms.RandomHorizontalFlip(),      # Volteo horizontal aleatorio\n",
    "])"
   ]
  },
  {
   "cell_type": "code",
   "execution_count": 4,
   "metadata": {},
   "outputs": [],
   "source": [
    "class BrainDataset(Dataset):\n",
    "    def __init__(self, rootpath, transform=None):\n",
    "        self.transform = transform\n",
    "        self.samples = [os.path.join(rootpath, r) for r in os.listdir(rootpath) if os.path.isdir(os.path.join(rootpath, r))]\n",
    "\n",
    "    def __len__(self):\n",
    "        return len(self.samples)\n",
    "\n",
    "    def loadTensor(self, filepath):\n",
    "        img = nib.load(filepath).get_fdata()\n",
    "        tensor = torch.tensor(img, dtype=torch.float32).permute(2, 0, 1)  # [H,W,D] -> [D,H,W]\n",
    "        return tensor[:154]  # Asegúrate de que todas las imágenes tengan la misma profundidad\n",
    "\n",
    "    def __getitem__(self, idx):\n",
    "        folder = self.samples[idx]\n",
    "\n",
    "        flair = seg = t1 = t1ce = t2 = None\n",
    "        for file in os.listdir(folder):\n",
    "            mode = file.split(\"_\")[-1]\n",
    "            filepath = os.path.join(folder, file)\n",
    "            if mode == \"flair.nii.gz\":\n",
    "                flair = self.loadTensor(filepath)\n",
    "            elif mode == \"seg.nii.gz\":\n",
    "                seg = self.loadTensor(filepath)\n",
    "            elif mode == \"t1.nii.gz\":\n",
    "                t1 = self.loadTensor(filepath)\n",
    "            elif mode == \"t1ce.nii.gz\":\n",
    "                t1ce = self.loadTensor(filepath)\n",
    "            elif mode == \"t2.nii.gz\":\n",
    "                t2 = self.loadTensor(filepath)\n",
    "\n",
    "        voxel = torch.stack([flair, t1, t1ce, t2], dim=0)  # [chan,D,H,W]\n",
    "\n",
    "        # Aplicar transformaciones de data augmentation\n",
    "        if self.transform:\n",
    "            voxel = self.transform(voxel)\n",
    "\n",
    "        # 0 -> Fondo\n",
    "        # 1,2,4 -> tumor\n",
    "        seg[seg == 4] = 3\n",
    "        seg = seg.long()\n",
    "        return (voxel, seg)"
   ]
  },
  {
   "cell_type": "code",
   "execution_count": 5,
   "metadata": {},
   "outputs": [],
   "source": [
    "# U-Net más pequeña con GroupNorm\n",
    "def DoubleConv3d(in_chan, out_chan, num_groups=8):\n",
    "    return nn.Sequential(\n",
    "        nn.Conv3d(in_chan, out_chan, kernel_size=3, padding=1),\n",
    "        nn.GroupNorm(num_groups, out_chan),\n",
    "        nn.ReLU(inplace=True),\n",
    "        nn.Conv3d(out_chan, out_chan, kernel_size=3, padding=1),\n",
    "        nn.GroupNorm(num_groups, out_chan),\n",
    "        nn.ReLU(inplace=True),\n",
    "    )"
   ]
  },
  {
   "cell_type": "code",
   "execution_count": 6,
   "metadata": {},
   "outputs": [],
   "source": [
    "class Unet3D(nn.Module):\n",
    "    def __init__(self, n_chan, n_classes):\n",
    "        super(Unet3D, self).__init__()\n",
    "\n",
    "        # Encoder\n",
    "        self.enc1 = DoubleConv3d(n_chan, 16)  # Reducimos los canales a 16\n",
    "        self.pool1 = nn.MaxPool3d(kernel_size=2, stride=2)\n",
    "\n",
    "        self.enc2 = DoubleConv3d(16, 32)      # Reducimos los canales a 32\n",
    "        self.pool2 = nn.MaxPool3d(kernel_size=2, stride=2)\n",
    "\n",
    "        # Bottleneck\n",
    "        self.bottleneck = DoubleConv3d(32, 64)  # Reducimos los canales a 64\n",
    "\n",
    "        # Decoder\n",
    "        self.up2 = nn.ConvTranspose3d(64, 32, kernel_size=2, stride=2, output_padding=(1, 0, 0))\n",
    "        self.dec2 = DoubleConv3d(64, 32)\n",
    "\n",
    "        self.up1 = nn.ConvTranspose3d(32, 16, kernel_size=2, stride=2)\n",
    "        self.dec1 = DoubleConv3d(32, 16)\n",
    "\n",
    "        # Output\n",
    "        self.OutLayer = nn.Conv3d(16, n_classes, kernel_size=1)\n",
    "\n",
    "    def forward(self, x):\n",
    "        z1 = self.enc1(x)\n",
    "        z2 = self.pool1(z1)\n",
    "\n",
    "        z2 = self.enc2(z2)\n",
    "        Z = self.pool2(z2)\n",
    "\n",
    "        Z = self.bottleneck(Z)\n",
    "        y = self.up2(Z)\n",
    "        y = torch.cat([y, z2], dim=1)\n",
    "        y = self.dec2(y)\n",
    "        y = self.up1(y)\n",
    "        y = torch.cat([y, z1], dim=1)\n",
    "        y = self.dec1(y)\n",
    "        return self.OutLayer(y)"
   ]
  },
  {
   "cell_type": "code",
   "execution_count": 7,
   "metadata": {},
   "outputs": [],
   "source": [
    "root = \"./BrainTrain\"\n",
    "dataset = BrainDataset(root, transform=transform)"
   ]
  },
  {
   "cell_type": "code",
   "execution_count": 8,
   "metadata": {},
   "outputs": [],
   "source": [
    "n_dataset = len(dataset)\n",
    "n_train = int(0.75 * n_dataset)\n",
    "n_eval = n_dataset - n_train"
   ]
  },
  {
   "cell_type": "code",
   "execution_count": 9,
   "metadata": {},
   "outputs": [],
   "source": [
    "trainSubset, evalSubset = random_split(dataset, [n_train, n_eval], generator=torch.Generator().manual_seed(21))\n",
    "trainLoader = DataLoader(trainSubset, batch_size=1, shuffle=True)\n",
    "evalLoader = DataLoader(evalSubset, batch_size=1, shuffle=False)"
   ]
  },
  {
   "cell_type": "code",
   "execution_count": 10,
   "metadata": {},
   "outputs": [],
   "source": [
    "# Inicializar modelo, función de pérdida y optimizador\n",
    "model = Unet3D(n_chan=4, n_classes=4).to(device)\n",
    "criterion = nn.CrossEntropyLoss()\n",
    "optimizer = torch.optim.Adam(model.parameters(), lr=0.001)"
   ]
  },
  {
   "cell_type": "code",
   "execution_count": 11,
   "metadata": {},
   "outputs": [
    {
     "name": "stderr",
     "output_type": "stream",
     "text": [
      "Epoch [1/10]:  43%|████▎     | 3/7 [1:14:25<1:39:14, 1488.55s/it]\n"
     ]
    },
    {
     "ename": "KeyboardInterrupt",
     "evalue": "",
     "output_type": "error",
     "traceback": [
      "\u001b[0;31m---------------------------------------------------------------------------\u001b[0m",
      "\u001b[0;31mKeyboardInterrupt\u001b[0m                         Traceback (most recent call last)",
      "Cell \u001b[0;32mIn[11], line 12\u001b[0m\n\u001b[1;32m     10\u001b[0m outputs \u001b[38;5;241m=\u001b[39m model(inputs)\n\u001b[1;32m     11\u001b[0m loss \u001b[38;5;241m=\u001b[39m criterion(outputs, labels)\n\u001b[0;32m---> 12\u001b[0m loss\u001b[38;5;241m.\u001b[39mbackward()\n\u001b[1;32m     13\u001b[0m optimizer\u001b[38;5;241m.\u001b[39mstep()\n\u001b[1;32m     15\u001b[0m total_loss \u001b[38;5;241m+\u001b[39m\u001b[38;5;241m=\u001b[39m loss\u001b[38;5;241m.\u001b[39mitem()\n",
      "File \u001b[0;32m~/anaconda3/lib/python3.11/site-packages/torch/_tensor.py:581\u001b[0m, in \u001b[0;36mTensor.backward\u001b[0;34m(self, gradient, retain_graph, create_graph, inputs)\u001b[0m\n\u001b[1;32m    571\u001b[0m \u001b[38;5;28;01mif\u001b[39;00m has_torch_function_unary(\u001b[38;5;28mself\u001b[39m):\n\u001b[1;32m    572\u001b[0m     \u001b[38;5;28;01mreturn\u001b[39;00m handle_torch_function(\n\u001b[1;32m    573\u001b[0m         Tensor\u001b[38;5;241m.\u001b[39mbackward,\n\u001b[1;32m    574\u001b[0m         (\u001b[38;5;28mself\u001b[39m,),\n\u001b[0;32m   (...)\u001b[0m\n\u001b[1;32m    579\u001b[0m         inputs\u001b[38;5;241m=\u001b[39minputs,\n\u001b[1;32m    580\u001b[0m     )\n\u001b[0;32m--> 581\u001b[0m torch\u001b[38;5;241m.\u001b[39mautograd\u001b[38;5;241m.\u001b[39mbackward(\n\u001b[1;32m    582\u001b[0m     \u001b[38;5;28mself\u001b[39m, gradient, retain_graph, create_graph, inputs\u001b[38;5;241m=\u001b[39minputs\n\u001b[1;32m    583\u001b[0m )\n",
      "File \u001b[0;32m~/anaconda3/lib/python3.11/site-packages/torch/autograd/__init__.py:347\u001b[0m, in \u001b[0;36mbackward\u001b[0;34m(tensors, grad_tensors, retain_graph, create_graph, grad_variables, inputs)\u001b[0m\n\u001b[1;32m    342\u001b[0m     retain_graph \u001b[38;5;241m=\u001b[39m create_graph\n\u001b[1;32m    344\u001b[0m \u001b[38;5;66;03m# The reason we repeat the same comment below is that\u001b[39;00m\n\u001b[1;32m    345\u001b[0m \u001b[38;5;66;03m# some Python versions print out the first line of a multi-line function\u001b[39;00m\n\u001b[1;32m    346\u001b[0m \u001b[38;5;66;03m# calls in the traceback and some print out the last line\u001b[39;00m\n\u001b[0;32m--> 347\u001b[0m _engine_run_backward(\n\u001b[1;32m    348\u001b[0m     tensors,\n\u001b[1;32m    349\u001b[0m     grad_tensors_,\n\u001b[1;32m    350\u001b[0m     retain_graph,\n\u001b[1;32m    351\u001b[0m     create_graph,\n\u001b[1;32m    352\u001b[0m     inputs,\n\u001b[1;32m    353\u001b[0m     allow_unreachable\u001b[38;5;241m=\u001b[39m\u001b[38;5;28;01mTrue\u001b[39;00m,\n\u001b[1;32m    354\u001b[0m     accumulate_grad\u001b[38;5;241m=\u001b[39m\u001b[38;5;28;01mTrue\u001b[39;00m,\n\u001b[1;32m    355\u001b[0m )\n",
      "File \u001b[0;32m~/anaconda3/lib/python3.11/site-packages/torch/autograd/graph.py:825\u001b[0m, in \u001b[0;36m_engine_run_backward\u001b[0;34m(t_outputs, *args, **kwargs)\u001b[0m\n\u001b[1;32m    823\u001b[0m     unregister_hooks \u001b[38;5;241m=\u001b[39m _register_logging_hooks_on_whole_graph(t_outputs)\n\u001b[1;32m    824\u001b[0m \u001b[38;5;28;01mtry\u001b[39;00m:\n\u001b[0;32m--> 825\u001b[0m     \u001b[38;5;28;01mreturn\u001b[39;00m Variable\u001b[38;5;241m.\u001b[39m_execution_engine\u001b[38;5;241m.\u001b[39mrun_backward(  \u001b[38;5;66;03m# Calls into the C++ engine to run the backward pass\u001b[39;00m\n\u001b[1;32m    826\u001b[0m         t_outputs, \u001b[38;5;241m*\u001b[39margs, \u001b[38;5;241m*\u001b[39m\u001b[38;5;241m*\u001b[39mkwargs\n\u001b[1;32m    827\u001b[0m     )  \u001b[38;5;66;03m# Calls into the C++ engine to run the backward pass\u001b[39;00m\n\u001b[1;32m    828\u001b[0m \u001b[38;5;28;01mfinally\u001b[39;00m:\n\u001b[1;32m    829\u001b[0m     \u001b[38;5;28;01mif\u001b[39;00m attach_logging_hooks:\n",
      "\u001b[0;31mKeyboardInterrupt\u001b[0m: "
     ]
    }
   ],
   "source": [
    "num_epochs = 10\n",
    "for epoch in range(num_epochs):\n",
    "    model.train()\n",
    "    total_loss = 0\n",
    "\n",
    "    # Barra de progreso con tqdm\n",
    "    for inputs, labels in tqdm(trainLoader, desc=f\"Epoch [{epoch+1}/{num_epochs}]\"):\n",
    "        inputs, labels = inputs.to(device), labels.to(device)\n",
    "        optimizer.zero_grad()\n",
    "        outputs = model(inputs)\n",
    "        loss = criterion(outputs, labels)\n",
    "        loss.backward()\n",
    "        optimizer.step()\n",
    "\n",
    "        total_loss += loss.item()\n",
    "\n",
    "    print(f\"Epoch [{epoch+1}/{num_epochs}], Loss: {total_loss/len(trainLoader):.4f}\")\n"
   ]
  },
  {
   "cell_type": "code",
   "execution_count": null,
   "metadata": {},
   "outputs": [],
   "source": [
    "# Evaluación\n",
    "model.eval()\n",
    "eval_loss = 0\n",
    "with torch.no_grad():\n",
    "    for inputs, labels in tqdm(evalLoader, desc=\"Evaluando\"):\n",
    "        inputs, labels = inputs.to(device), labels.to(device)\n",
    "        outputs = model(inputs)\n",
    "        loss = criterion(outputs, labels)\n",
    "        eval_loss += loss.item()\n",
    "    avg_eval_loss = eval_loss / len(evalLoader)\n",
    "print(f\"Eval Loss: {avg_eval_loss:.4f}\")"
   ]
  },
  {
   "cell_type": "code",
   "execution_count": null,
   "metadata": {},
   "outputs": [],
   "source": [
    "torch.save(model.state_dict(), \"model_seg.pth\")"
   ]
  }
 ],
 "metadata": {
  "kernelspec": {
   "display_name": "base",
   "language": "python",
   "name": "python3"
  },
  "language_info": {
   "codemirror_mode": {
    "name": "ipython",
    "version": 3
   },
   "file_extension": ".py",
   "mimetype": "text/x-python",
   "name": "python",
   "nbconvert_exporter": "python",
   "pygments_lexer": "ipython3",
   "version": "3.11.0"
  }
 },
 "nbformat": 4,
 "nbformat_minor": 2
}
