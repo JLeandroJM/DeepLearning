{
 "cells": [
  {
   "cell_type": "code",
   "execution_count": 1,
   "metadata": {},
   "outputs": [],
   "source": [
    "from PIL import Image\n",
    "import os\n",
    "\n"
   ]
  },
  {
   "cell_type": "code",
   "execution_count": 2,
   "metadata": {},
   "outputs": [
    {
     "name": "stdout",
     "output_type": "stream",
     "text": [
      "Todas las imágenes han sido redimensionadas a 256x256 y guardadas en ./SoundAnimals_Train/train_redimensionadas.\n"
     ]
    }
   ],
   "source": [
    "# Directorio donde están las imágenes originales\n",
    "IMAGES_DIR = \"./SoundAnimals_Train/train_spectograms\"\n",
    "OUTPUT_DIR = \"./SoundAnimals_Train/train_redimensionadas\"\n",
    "\n",
    "# Crear carpeta de salida si no existe\n",
    "os.makedirs(OUTPUT_DIR, exist_ok=True)\n",
    "\n",
    "# Redimensionar imágenes\n",
    "for img_name in os.listdir(IMAGES_DIR):\n",
    "    if img_name.endswith(\".png\"):  # Asegurarse de que es una imagen\n",
    "        img_path = os.path.join(IMAGES_DIR, img_name)\n",
    "        with Image.open(img_path) as img:\n",
    "            img_resized = img.resize((256, 256))  # Cambiar a (128, 128) si prefieres\n",
    "            img_resized.save(os.path.join(OUTPUT_DIR, img_name))\n",
    "\n",
    "print(f\"Todas las imágenes han sido redimensionadas a 256x256 y guardadas en {OUTPUT_DIR}.\")"
   ]
  }
 ],
 "metadata": {
  "kernelspec": {
   "display_name": "base",
   "language": "python",
   "name": "python3"
  },
  "language_info": {
   "codemirror_mode": {
    "name": "ipython",
    "version": 3
   },
   "file_extension": ".py",
   "mimetype": "text/x-python",
   "name": "python",
   "nbconvert_exporter": "python",
   "pygments_lexer": "ipython3",
   "version": "3.11.0"
  }
 },
 "nbformat": 4,
 "nbformat_minor": 2
}
