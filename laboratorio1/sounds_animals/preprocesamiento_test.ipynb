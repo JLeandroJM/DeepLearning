{
 "cells": [
  {
   "cell_type": "code",
   "execution_count": 5,
   "metadata": {},
   "outputs": [],
   "source": [
    "from PIL import Image\n",
    "import librosa\n",
    "import librosa.display\n",
    "import matplotlib.pyplot as plt\n",
    "import os\n",
    "import pandas as pd\n",
    "import numpy as np"
   ]
  },
  {
   "cell_type": "code",
   "execution_count": 8,
   "metadata": {},
   "outputs": [],
   "source": [
    "\n",
    "\n",
    "def convertir_audios_a_imagenes(audio_dir, output_dir_original, output_dir_resized, img_size=(256, 256)):\n",
    "   \n",
    "    \n",
    "    os.makedirs(output_dir_original, exist_ok=True)\n",
    "    os.makedirs(output_dir_resized, exist_ok=True)\n",
    "\n",
    "    archivos_audio = [f for f in os.listdir(audio_dir) if f.endswith(\".wav\")]\n",
    "\n",
    "    for archivo_audio in archivos_audio:\n",
    "        ruta_audio = os.path.join(audio_dir, archivo_audio)\n",
    "\n",
    "        try:\n",
    "            # Cargar el audio\n",
    "            y, sr = librosa.load(ruta_audio, sr=None)\n",
    "\n",
    "            # Generar espectrograma Mel\n",
    "            mel_spectrogram = librosa.feature.melspectrogram(y=y, sr=sr, n_mels=128, fmax=8000)\n",
    "            mel_spectrogram_db = librosa.power_to_db(mel_spectrogram, ref=np.max)\n",
    "\n",
    "            # Crear el espectrograma como imagen sin redimensionar\n",
    "            plt.figure(figsize=(4, 4))\n",
    "            plt.axis('off')\n",
    "            plt.imshow(mel_spectrogram_db, aspect='auto', origin='lower', cmap='viridis')\n",
    "\n",
    "            # Guardar la imagen sin redimensionar\n",
    "            nombre_salida = os.path.splitext(archivo_audio)[0] + \".png\"\n",
    "            ruta_salida_original = os.path.join(output_dir_original, nombre_salida)\n",
    "            plt.savefig(ruta_salida_original, bbox_inches='tight', pad_inches=0)\n",
    "            plt.close()\n",
    "\n",
    "            # Redimensionar y guardar la imagen redimensionada\n",
    "            temp_image = Image.open(ruta_salida_original)\n",
    "            temp_image = temp_image.resize(img_size, Image.Resampling.LANCZOS)\n",
    "            ruta_salida_resized = os.path.join(output_dir_resized, nombre_salida)\n",
    "            temp_image.save(ruta_salida_resized)\n",
    "\n",
    "        except Exception as e:\n",
    "            print(f\"Error al procesar {archivo_audio}: {e}\")"
   ]
  },
  {
   "cell_type": "code",
   "execution_count": 9,
   "metadata": {},
   "outputs": [],
   "source": [
    "audio_dir = \"./SoundAnimals_Train/test\"\n",
    "output_dir_original = \"./SoundAnimals_Train/test_spectograms\"\n",
    "output_dir_resized = \"./SoundAnimals_Train/test_redimensionados\"\n",
    "\n",
    "convertir_audios_a_imagenes(\n",
    "    audio_dir=audio_dir,\n",
    "    output_dir_original=output_dir_original,\n",
    "    output_dir_resized=output_dir_resized,\n",
    "    img_size=(256, 256)  \n",
    ")"
   ]
  }
 ],
 "metadata": {
  "kernelspec": {
   "display_name": "base",
   "language": "python",
   "name": "python3"
  },
  "language_info": {
   "codemirror_mode": {
    "name": "ipython",
    "version": 3
   },
   "file_extension": ".py",
   "mimetype": "text/x-python",
   "name": "python",
   "nbconvert_exporter": "python",
   "pygments_lexer": "ipython3",
   "version": "3.11.0"
  }
 },
 "nbformat": 4,
 "nbformat_minor": 2
}
